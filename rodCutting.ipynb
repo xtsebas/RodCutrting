{
 "cells": [
  {
   "cell_type": "markdown",
   "metadata": {},
   "source": [
    "# Laboratorio 1 Rod Cutting\n",
    "\n",
    "- Josue Marroquin 22397\n",
    "- Sebastian Huertas 22295\n",
    "\n",
    "## Repositorio\n",
    "- https://github.com/xtsebas/RodCutrting"
   ]
  },
  {
   "cell_type": "markdown",
   "metadata": {},
   "source": [
    "## Definición de la función para solucionar el problema"
   ]
  },
  {
   "cell_type": "code",
   "execution_count": 6,
   "metadata": {},
   "outputs": [],
   "source": [
    "def rod_cutting_fixed(prices, n):\n",
    "    \"\"\"\n",
    "    Calcula la máxima ganancia posible al cortar una varilla de longitud n.\n",
    "    :param prices: Lista de precios donde prices[i] representa el precio de la varilla de longitud i.\n",
    "    :param n: Longitud total de la varilla.\n",
    "    :return: La máxima ganancia y la lista de cortes óptimos.\n",
    "    \"\"\"\n",
    "    dp = [0] * (n + 1)  # dp[i] guarda la mejor ganancia para varilla de longitud i\n",
    "    cuts = [0] * (n + 1)  # cuts[i] guarda la mejor primera longitud de corte para i\n",
    "    \n",
    "    # Llenar la tabla DP\n",
    "    for i in range(1, n + 1):  # Longitud de la varilla actual\n",
    "        max_profit = -1  # Inicializamos en -1 para detectar valores correctos\n",
    "        for j in range(1, min(i + 1, len(prices))):  # Posibles cortes\n",
    "            possible_profit = prices[j] + dp[i - j]\n",
    "            if possible_profit > max_profit:\n",
    "                max_profit = possible_profit\n",
    "                cuts[i] = j  # Guardar el corte óptimo\n",
    "        dp[i] = max_profit  # Guardar el mejor precio encontrado\n",
    "\n",
    "    # Reconstrucción de la solución: Lista de cortes óptimos\n",
    "    length = n\n",
    "    optimal_cuts = []\n",
    "    while length > 0:\n",
    "        optimal_cuts.append(cuts[length])\n",
    "        length -= cuts[length]\n",
    "\n",
    "    return dp[n], optimal_cuts"
   ]
  },
  {
   "cell_type": "markdown",
   "metadata": {},
   "source": [
    "## Casos de test"
   ]
  },
  {
   "cell_type": "code",
   "execution_count": 7,
   "metadata": {},
   "outputs": [
    {
     "name": "stdout",
     "output_type": "stream",
     "text": [
      "\n",
      "Resultados de las pruebas del algoritmo Rod Cutting:\n",
      "\n",
      "🔹 Test 1:\n",
      "   - Precios disponibles: [0, 1, 5, 8, 9, 10, 17, 17, 20, 24, 30]\n",
      "   - Longitud de la varilla: 4\n",
      "   - Ganancia máxima esperada: 10\n",
      "   - Ganancia máxima obtenida: 10\n",
      "   - Cortes realizados: [2, 2]\n",
      "   - Precios por cada corte: [5, 5]\n",
      "   - Suma total verificada: 10\n",
      "\n",
      "🔹 Test 2:\n",
      "   - Precios disponibles: [0, 1, 5, 8, 9, 10, 17, 17, 20, 24, 30]\n",
      "   - Longitud de la varilla: 8\n",
      "   - Ganancia máxima esperada: 22\n",
      "   - Ganancia máxima obtenida: 22\n",
      "   - Cortes realizados: [2, 6]\n",
      "   - Precios por cada corte: [5, 17]\n",
      "   - Suma total verificada: 22\n",
      "\n",
      "🔹 Test 3:\n",
      "   - Precios disponibles: [0, 3, 5, 8, 9, 10, 17, 17, 20, 24, 30]\n",
      "   - Longitud de la varilla: 5\n",
      "   - Ganancia máxima esperada: 15\n",
      "   - Ganancia máxima obtenida: 15\n",
      "   - Cortes realizados: [1, 1, 1, 1, 1]\n",
      "   - Precios por cada corte: [3, 3, 3, 3, 3]\n",
      "   - Suma total verificada: 15\n",
      "\n",
      "🔹 Test 4:\n",
      "   - Precios disponibles: [0, 2, 5, 7, 8, 10, 15, 17, 20, 24, 30]\n",
      "   - Longitud de la varilla: 7\n",
      "   - Ganancia máxima esperada: 17\n",
      "   - Ganancia máxima obtenida: 17\n",
      "   - Cortes realizados: [1, 2, 2, 2]\n",
      "   - Precios por cada corte: [2, 5, 5, 5]\n",
      "   - Suma total verificada: 17\n",
      "\n",
      "🔹 Test 5:\n",
      "   - Precios disponibles: [0, 1, 2, 3, 4, 5, 6, 7, 8, 9, 10]\n",
      "   - Longitud de la varilla: 10\n",
      "   - Ganancia máxima esperada: 10\n",
      "   - Ganancia máxima obtenida: 10\n",
      "   - Cortes realizados: [1, 1, 1, 1, 1, 1, 1, 1, 1, 1]\n",
      "   - Precios por cada corte: [1, 1, 1, 1, 1, 1, 1, 1, 1, 1]\n",
      "   - Suma total verificada: 10\n"
     ]
    }
   ],
   "source": [
    "def test_rod_cutting_fixed():\n",
    "    test_cases = [\n",
    "        ([0, 1, 5, 8, 9, 10, 17, 17, 20, 24, 30], 4, 10),  # Caso básico\n",
    "        ([0, 1, 5, 8, 9, 10, 17, 17, 20, 24, 30], 8, 22),  # Varilla larga\n",
    "        ([0, 3, 5, 8, 9, 10, 17, 17, 20, 24, 30], 5, 15),  # Diferente tabla de precios\n",
    "        ([0, 2, 5, 7, 8, 10, 15, 17, 20, 24, 30], 7, 17),  # Variación en valores\n",
    "        ([0, 1, 2, 3, 4, 5, 6, 7, 8, 9, 10], 10, 10)       # Caso donde conviene no cortar\n",
    "    ]\n",
    "    \n",
    "    print(\"\\nResultados de las pruebas del algoritmo Rod Cutting:\")\n",
    "    for i, (prices, n, expected) in enumerate(test_cases):\n",
    "        result, cuts = rod_cutting_fixed(prices, n)\n",
    "        individual_prices = [prices[cut] for cut in cuts]\n",
    "        print(f\"\\n🔹 Test {i+1}:\")\n",
    "        print(f\"   - Precios disponibles: {prices}\")\n",
    "        print(f\"   - Longitud de la varilla: {n}\")\n",
    "        print(f\"   - Ganancia máxima esperada: {expected}\")\n",
    "        print(f\"   - Ganancia máxima obtenida: {result}\")\n",
    "        print(f\"   - Cortes realizados: {cuts}\")\n",
    "        print(f\"   - Precios por cada corte: {individual_prices}\")\n",
    "        print(f\"   - Suma total verificada: {sum(individual_prices)}\")\n",
    "        assert result == expected, f\"❌ Error en el caso de prueba {i+1}\"\n",
    "\n",
    "test_rod_cutting_fixed()"
   ]
  }
 ],
 "metadata": {
  "kernelspec": {
   "display_name": "Python 3",
   "language": "python",
   "name": "python3"
  },
  "language_info": {
   "codemirror_mode": {
    "name": "ipython",
    "version": 3
   },
   "file_extension": ".py",
   "mimetype": "text/x-python",
   "name": "python",
   "nbconvert_exporter": "python",
   "pygments_lexer": "ipython3",
   "version": "3.12.2"
  }
 },
 "nbformat": 4,
 "nbformat_minor": 2
}
